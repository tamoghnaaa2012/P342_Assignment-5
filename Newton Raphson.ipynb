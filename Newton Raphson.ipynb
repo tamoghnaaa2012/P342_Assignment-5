{
 "cells": [
  {
   "cell_type": "code",
   "execution_count": 20,
   "metadata": {},
   "outputs": [
    {
     "name": "stdout",
     "output_type": "stream",
     "text": [
      "Enter Guess: 4\n",
      "Tolerable Error: 0.00001\n",
      "Maximum Step: 50\n",
      "\n",
      "\n",
      "*** NEWTON RAPHSON METHOD IMPLEMENTATION ***\n",
      "Iteration-1, x1 = 4.000000 and f(x1) = -21.000000\n"
     ]
    },
    {
     "data": {
      "text/plain": [
       "-3.0"
      ]
     },
     "execution_count": 20,
     "metadata": {},
     "output_type": "execute_result"
    }
   ],
   "source": [
    "# Defining Function\n",
    "def f(x):\n",
    "    return x**3 - 5*x - 9\n",
    "\n",
    "# Defining derivative of function\n",
    "def g(x):\n",
    "    return x**2 - 11\n",
    "\n",
    "# Implementing Newton Raphson Method\n",
    "\n",
    "def newtonRaphson(a,e,N):\n",
    "    print('\\n\\n*** NEWTON RAPHSON METHOD IMPLEMENTATION ***')\n",
    "    step = 1\n",
    "    xn=x0\n",
    "    previous=0\n",
    "    approax=0\n",
    "    while abs(xn-)< e:\n",
    "        xn = xn - f(xn)/g(xn)\n",
    "        \n",
    "        print('Iteration-%d, x1 = %0.6f and f(x1) = %0.6f' % (step, x0, f(xn)))\n",
    "        \n",
    "        step = step + 1\n",
    "    return(xn)    \n",
    "        #if step > N:\n",
    "        #    flag = 0\n",
    "        #    break\n",
    "        \n",
    "    \n",
    "    \n",
    "    \n",
    "# Input Section\n",
    "x0 = input('Enter Guess: ')\n",
    "e = input('Tolerable Error: ')\n",
    "N = input('Maximum Step: ')\n",
    "\n",
    "# Converting x0 and e to float\n",
    "x0 = float(x0)\n",
    "e = float(e)\n",
    "\n",
    "# Converting N to integer\n",
    "N = int(N)\n",
    "\n",
    "\n",
    "#Note: You can combine above three section like this\n",
    "# x0 = float(input('Enter Guess: '))\n",
    "# e = float(input('Tolerable Error: '))\n",
    "# N = int(input('Maximum Step: '))\n",
    "\n",
    "# Starting Newton Raphson Method\n",
    "newtonRaphson(x0,e,N)"
   ]
  },
  {
   "cell_type": "code",
   "execution_count": 7,
   "metadata": {},
   "outputs": [
    {
     "name": "stdout",
     "output_type": "stream",
     "text": [
      "The value of the root is :  -1.0000\n"
     ]
    }
   ],
   "source": [
    "def func( x ): \n",
    "    return x * x * x - x * x + 2\n",
    "  \n",
    "# Derivative of the above function  \n",
    "# which is 3*x^x - 2*x \n",
    "def derivFunc( x ): \n",
    "    return 3 * x * x - 2 * x \n",
    "  \n",
    "# Function to find the root \n",
    "def newtonRaphson( x ): \n",
    "    h = func(x) / derivFunc(x) \n",
    "    while abs(h) >= 0.0001: \n",
    "        h = func(x)/derivFunc(x) \n",
    "          \n",
    "        # x(i+1) = x(i) - f(x) / f'(x) \n",
    "        x = x - h \n",
    "      \n",
    "    print(\"The value of the root is : \", \n",
    "                             \"%.4f\"% x) \n",
    "  \n",
    "# Driver program to test above \n",
    "x0 = -20 # Initial values assumed \n",
    "newtonRaphson(x0) "
   ]
  },
  {
   "cell_type": "code",
   "execution_count": 13,
   "metadata": {},
   "outputs": [
    {
     "name": "stdout",
     "output_type": "stream",
     "text": [
      "f 2.1  =  -6.59\n",
      "f 3.6690476190476424  =  2.4619104308391737\n",
      "f 3.333550415623739  =  0.11255837350520359\n",
      "f 3.3166677590756835  =  0.0002850240921166147\n",
      "solution: x =  3.316624790633738\n"
     ]
    }
   ],
   "source": [
    "def derivative(f, x, h):\n",
    "      return (f(x+h) - f(x-h)) / (2.0*h)  # might want to return a small non-zero if ==0\n",
    "\n",
    "def quadratic(x):\n",
    "    return x**2 -11     # just a function to show it works\n",
    "\n",
    "def solve(f, x0, h):\n",
    "    lastX = x0\n",
    "    nextX = lastX + 10* h  # \"different than lastX so loop starts OK\n",
    "    while (abs(lastX - nextX) > h):  # this is how you terminate the loop - note use of abs()\n",
    "        newY = f(nextX)                     # just for debug... see what happens\n",
    "        print (\"f\", nextX, \" = \", newY)     # print out progress... again just debug\n",
    "        lastX = nextX\n",
    "        nextX = lastX - newY / derivative(f, lastX, h)  # update estimate using N-R\n",
    "    return nextX\n",
    "\n",
    "xFound = solve(quadratic, 2, 0.01)    # call the solver\n",
    "print (\"solution: x = \", xFound)        # print the result"
   ]
  },
  {
   "cell_type": "code",
   "execution_count": 23,
   "metadata": {},
   "outputs": [
    {
     "name": "stdout",
     "output_type": "stream",
     "text": [
      "Iteration Error\n",
      "1           0.7235508900668401\n",
      "2           0.05647073357597865\n",
      "3           0.0008720133443014255\n",
      "4           2.1409912109859874e-07\n",
      "solution: x =  2.219107148913759\n",
      "1.3433698597964394e-14\n"
     ]
    }
   ],
   "source": [
    "##Final Newton Raphson\n",
    "\n",
    "import math\n",
    "def derivative(f, x, h):\n",
    "      return (f(x+h) - f(x-h)) / (2.0*h)  # might want to return a small non-zero if ==0\n",
    "\n",
    "def f(x):\n",
    "    return (math.log(x)- math.sin(x))    # just a function to show it works\n",
    "\n",
    "def solve(f, x0, h):\n",
    "    step=0\n",
    "    last_X = x0\n",
    "    next_X = last_X + 1* h  # \"different than lastX so loop starts OK\n",
    "    print(\"Iteration\",\"Error\")\n",
    "    while (abs(next_X - last_X) >= h):  # this is how you terminate the loop - note use of abs()\n",
    "        new_Y = f(next_X)                     # just for debug... see what happens\n",
    "        step =step+1\n",
    "        #print (step,\"f\", nextX, \" = \", newY)     # print out progress... again just debug\n",
    "        last_X = next_X\n",
    "        next_X = last_X - new_Y / derivative(f, last_X, h)  # update estimate using N-R\n",
    "        error = abs(next_X-last_X)\n",
    "        print(step,\"         \",error)\n",
    "        \n",
    "    return next_X\n",
    "    \n",
    "    \n",
    "xFound = solve(f, 3, 1.0e-06)    # call the solver\n",
    "print (\"solution: x = \", xFound)# print the result\n",
    "print(f(xFound))"
   ]
  },
  {
   "cell_type": "code",
   "execution_count": null,
   "metadata": {},
   "outputs": [],
   "source": [
    "def f(x):\n",
    "    return x**3 - 5*x - 9\n",
    "\n",
    "# Defining derivative of function\n",
    "def g(x):\n",
    "    return 3*x**2 - 5\n",
    "\n",
    "def nraphson(f,g,a,tol):\n",
    "    last_x=x\n",
    "    next_x="
   ]
  },
  {
   "cell_type": "code",
   "execution_count": null,
   "metadata": {},
   "outputs": [],
   "source": [
    "def solve(f, x0, h):\n",
    "    xn = x0\n",
    "    prev = 0\n",
    "\n",
    "    while ( approx - prev > h):\n",
    "         xn = xn - (f(xn))/derivative(f, xn, h)\n",
    "\n",
    "    return xn"
   ]
  },
  {
   "cell_type": "code",
   "execution_count": 42,
   "metadata": {},
   "outputs": [
    {
     "name": "stdout",
     "output_type": "stream",
     "text": [
      "Iterations   Absolute error\n",
      "     1       7.236e-01   \n",
      "     2       5.647e-02   \n",
      "     3       8.720e-04   \n",
      "     4       2.141e-07   \n",
      "solution: x =  2.219107148913759\n",
      "1.3433698597964394e-14\n"
     ]
    }
   ],
   "source": [
    "##Final Newton Raphson\n",
    "\n",
    "import math\n",
    "def derivative(f, x, h):\n",
    "      return (f(x+h) - f(x-h)) / (2.0*h)  # might want to return a small non-zero if ==0\n",
    "\n",
    "def q(x):\n",
    "    return (math.log(x)- math.sin(x))    # just a function to show it works\n",
    "\n",
    "def solve(q, x0, h,file):\n",
    "    step=0\n",
    "    last_X = x0\n",
    "    next_X = last_X + 1* h  # \"different than lastX so loop starts OK\n",
    "    print(\"{:<12} {:<12}\".format(\"Iterations\", \"Absolute error\"))\n",
    "    while (abs(next_X - last_X) >= h):  # this is how you terminate the loop - note use of abs()\n",
    "        new_Y = f(next_X)                     # just for debug... see what happens\n",
    "        step =step+1\n",
    "        #print (step,\"f\", nextX, \" = \", newY)     # print out progress... again just debug\n",
    "        last_X = next_X\n",
    "        next_X = last_X - new_Y / derivative(q, last_X, h)  # update estimate using N-R\n",
    "        error = abs(next_X-last_X)\n",
    "        #print(step,\"         \",error)\n",
    "        file.write(\"{:^12} {:<12.3e}\\n\".format(step, error))\n",
    "        print(\"{:^12} {:<12.3e}\".format(step, error))\n",
    "        \n",
    "    file.close()    \n",
    "    return next_X\n",
    "f0 = open(\"datas_Q1a_Bisection.txt\",\"w+\")      \n",
    "xFound = solve(q, 3, 1.0e-06,f0)    # call the solver\n",
    "print (\"solution: x = \", xFound)# print the result\n",
    "print(f(xFound))"
   ]
  },
  {
   "cell_type": "code",
   "execution_count": 51,
   "metadata": {},
   "outputs": [
    {
     "name": "stdout",
     "output_type": "stream",
     "text": [
      "Iterations   Absolute error\n",
      "     1       2.496e-01   \n",
      "     2       1.125e-02   \n",
      "     3       2.776e-05   \n",
      "     4       1.701e-10   \n",
      "solution: x =  -0.7390851332151607\n",
      "0.0\n"
     ]
    }
   ],
   "source": [
    "##Final Newton Raphson\n",
    "\n",
    "import math\n",
    "def derivative(f, x, h):\n",
    "      return (f(x+h) - f(x-h)) / (2.0*h)  # might want to return a small non-zero if ==0\n",
    "\n",
    "def q(x):\n",
    "    return (-x- math.cos(x))    # just a function to show it works\n",
    "\n",
    "def solve(q, x0, h,file):\n",
    "    step=0\n",
    "    last_X = x0\n",
    "    next_X = last_X + 1* h  # \"different than lastX so loop starts OK\n",
    "    print(\"{:<12} {:<12}\".format(\"Iterations\", \"Absolute error\"))\n",
    "    while (abs(next_X - last_X) >= h):  # this is how you terminate the loop - note use of abs()\n",
    "        new_Y = f(next_X)                     # just for debug... see what happens\n",
    "        step =step+1\n",
    "        #print (step,\"f\", nextX, \" = \", newY)     # print out progress... again just debug\n",
    "        last_X = next_X\n",
    "        next_X = last_X - new_Y / derivative(q, last_X, h)  # update estimate using N-R\n",
    "        error = abs(next_X-last_X)\n",
    "        #print(step,\"         \",error)\n",
    "        file.write(\"{:^12} {:<12.3e}\\n\".format(step, error))\n",
    "        print(\"{:^12} {:<12.3e}\".format(step, error))\n",
    "        \n",
    "    file.close()    \n",
    "    return next_X\n",
    "f1 = open(\"datas_Q1b_Bisection.txt\",\"w+\")      \n",
    "xFound = solve(q, -1, 1.0e-06,f1)    # call the solver\n",
    "print (\"solution: x = \", xFound)# print the result\n",
    "print(f(xFound))"
   ]
  },
  {
   "cell_type": "code",
   "execution_count": 50,
   "metadata": {},
   "outputs": [
    {
     "name": "stdout",
     "output_type": "stream",
     "text": [
      "Iteration Error\n",
      "1           3.496554144555842\n",
      "2           2.627545603818077\n",
      "3           1.4413221884441214\n",
      "4           0.0499845959100188\n",
      "5           0.0005676623850606743\n",
      "6           7.112790956220749e-08\n",
      "solution: x =  -0.7390851332151618\n",
      "1.887379141862766e-15\n"
     ]
    }
   ],
   "source": [
    "##Final Newton Raphson\n",
    "\n",
    "import math\n",
    "def derivative(f, x, h):\n",
    "      return (f(x+h) - f(x-h)) / (2.0*h)  # might want to return a small non-zero if ==0\n",
    "\n",
    "def f(x):\n",
    "    return (-x- math.cos(x))    # just a function to show it works\n",
    "\n",
    "def solve(f, x0, h):\n",
    "    step=0\n",
    "    last_X = x0\n",
    "    next_X = last_X + 1* h  # \"different than lastX so loop starts OK\n",
    "    print(\"Iteration\",\"Error\")\n",
    "    while (abs(next_X - last_X) >= h):  # this is how you terminate the loop - note use of abs()\n",
    "        new_Y = f(next_X)                     # just for debug... see what happens\n",
    "        step =step+1\n",
    "        #print (step,\"f\", nextX, \" = \", newY)     # print out progress... again just debug\n",
    "        last_X = next_X\n",
    "        next_X = last_X - new_Y / derivative(f, last_X, h)  # update estimate using N-R\n",
    "        error = abs(next_X-last_X)\n",
    "        print(step,\"         \",error)\n",
    "        \n",
    "    return next_X\n",
    "    \n",
    "    \n",
    "xFound = solve(f, -3, 1.0e-06)    # call the solver\n",
    "print (\"solution: x = \", xFound)# print the result\n",
    "print(f(xFound))"
   ]
  },
  {
   "cell_type": "code",
   "execution_count": null,
   "metadata": {},
   "outputs": [],
   "source": []
  }
 ],
 "metadata": {
  "kernelspec": {
   "display_name": "Python 3",
   "language": "python",
   "name": "python3"
  },
  "language_info": {
   "codemirror_mode": {
    "name": "ipython",
    "version": 3
   },
   "file_extension": ".py",
   "mimetype": "text/x-python",
   "name": "python",
   "nbconvert_exporter": "python",
   "pygments_lexer": "ipython3",
   "version": "3.8.3"
  }
 },
 "nbformat": 4,
 "nbformat_minor": 4
}
