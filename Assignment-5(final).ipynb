{
 "cells": [
  {
   "cell_type": "code",
   "execution_count": null,
   "metadata": {},
   "outputs": [],
   "source": [
    "#Assignment -5 (all question's solutions)\n",
    "#TAMOGHNA PATTANAYAK    1811168\n",
    "#Question-1(a)"
   ]
  },
  {
   "cell_type": "code",
   "execution_count": 69,
   "metadata": {},
   "outputs": [
    {
     "name": "stdout",
     "output_type": "stream",
     "text": [
      "Iterations   Absolute error\n",
      "     1       5.000e-01   \n",
      "     2       2.500e-01   \n",
      "     3       1.250e-01   \n",
      "     4       6.250e-02   \n",
      "     5       3.125e-02   \n",
      "     6       1.562e-02   \n",
      "     7       7.812e-03   \n",
      "     8       3.906e-03   \n",
      "     9       1.953e-03   \n",
      "     10      9.766e-04   \n",
      "     11      4.883e-04   \n",
      "     12      2.441e-04   \n",
      "     13      1.221e-04   \n",
      "     14      6.104e-05   \n",
      "     15      3.052e-05   \n",
      "     16      1.526e-05   \n",
      "     17      7.629e-06   \n",
      "     18      3.815e-06   \n",
      "     19      1.907e-06   \n",
      "     20      9.537e-07   \n",
      "     21      4.768e-07   \n",
      "     22      2.384e-07   \n",
      "     23      1.192e-07   \n",
      "The solution is: 2.2191070318222046\n",
      "At root point the f(x)is    -1.234698068230955e-07    which is tends to 0\n"
     ]
    }
   ],
   "source": [
    "#Question-1(a)\n",
    "#Bisection Method\n",
    "\n",
    "from Own_library import *\n",
    "import math\n",
    "\n",
    "def f(x):\n",
    "    return(math.log(x)- math.sin(x))\n",
    "\n",
    "\n",
    "q1a_1 = open(\"Q1a_Bisection_method.txt\",\"w+\")     \n",
    "ans = bisection_method(f,1.5,2.5,1.0e-07,q1a_1)\n",
    "\n",
    "print(\"The solution is:\", ans) \n",
    "print(\"At root point the f(x)is   \",f(ans),\"   which is tends to 0\")\n"
   ]
  },
  {
   "cell_type": "code",
   "execution_count": 70,
   "metadata": {},
   "outputs": [
    {
     "name": "stdout",
     "output_type": "stream",
     "text": [
      "Iterations   Absolute error\n",
      "     1       6.507e-01   \n",
      "     2       6.359e-02   \n",
      "     3       4.499e-03   \n",
      "     4       3.070e-04   \n",
      "     5       2.089e-05   \n",
      "     6       1.421e-06   \n",
      "     7       9.672e-08   \n",
      "The solution is: 2.2191071418525734\n",
      "At root point the f(x)is   -7.445812411077668e-09    which is tends to 0\n"
     ]
    }
   ],
   "source": [
    "#Question-1(a)\n",
    "#False position method\n",
    "\n",
    "from Own_library import *\n",
    "import math\n",
    "def f(x):\n",
    "    return(math.log(x)-math.sin(x))\n",
    "\n",
    "\n",
    "q1a_2 = open(\"Q1a_regula_falsi.txt\",\"w+\")\n",
    "ans= regula_falsi(f,1.5,2.5,1.0e-07,q1a_2)\n",
    "print(\"The solution is:\",ans)\n",
    "print(\"At root point the f(x)is  \",f(ans),\"   which is tends to 0\")"
   ]
  },
  {
   "cell_type": "code",
   "execution_count": null,
   "metadata": {},
   "outputs": [],
   "source": []
  },
  {
   "cell_type": "code",
   "execution_count": 71,
   "metadata": {},
   "outputs": [
    {
     "name": "stdout",
     "output_type": "stream",
     "text": [
      "Iterations   Absolute error\n",
      "     1       7.236e-01   \n",
      "     2       5.647e-02   \n",
      "     3       8.720e-04   \n",
      "     4       2.141e-07   \n",
      "The solution is: 2.219107148913759\n",
      "At root point the f(x)is    1.3433698597964394e-14    which is tends to 0\n"
     ]
    }
   ],
   "source": [
    "#Question-1(a)\n",
    "#Newton Raphson method\n",
    "\n",
    "\n",
    "from Own_library import *\n",
    "\n",
    "import math\n",
    "def derivative(f, x, h):\n",
    "      return (f(x+h) - f(x-h)) / (2.0*h)  # might want to return a small non-zero if ==0\n",
    "\n",
    "def f(x):\n",
    "    return (math.log(x)- math.sin(x))    # just a function to show it works\n",
    "\n",
    "q1a_3 = open(\"Q1a_Newton_raphson.txt\",\"w+\")      \n",
    "ans = N_raphson(f,derivative, 3, 1.0e-06,q1a_3)    # call the solver\n",
    "print(\"The solution is:\",ans)\n",
    "print(\"At root point the f(x)is   \",f(ans),\"   which is tends to 0\")"
   ]
  },
  {
   "cell_type": "code",
   "execution_count": null,
   "metadata": {},
   "outputs": [],
   "source": []
  },
  {
   "cell_type": "code",
   "execution_count": 46,
   "metadata": {},
   "outputs": [],
   "source": [
    "##Question-1(b)"
   ]
  },
  {
   "cell_type": "code",
   "execution_count": 73,
   "metadata": {},
   "outputs": [
    {
     "name": "stdout",
     "output_type": "stream",
     "text": [
      "Iterations   Absolute error\n",
      "     1       1.000e+00   \n",
      "     2       5.000e-01   \n",
      "     3       2.500e-01   \n",
      "     4       1.250e-01   \n",
      "     5       6.250e-02   \n",
      "     6       3.125e-02   \n",
      "     7       1.562e-02   \n",
      "     8       7.812e-03   \n",
      "     9       3.906e-03   \n",
      "     10      1.953e-03   \n",
      "     11      9.766e-04   \n",
      "     12      4.883e-04   \n",
      "     13      2.441e-04   \n",
      "     14      1.221e-04   \n",
      "     15      6.104e-05   \n",
      "     16      3.052e-05   \n",
      "     17      1.526e-05   \n",
      "     18      7.629e-06   \n",
      "     19      3.815e-06   \n",
      "     20      1.907e-06   \n",
      "     21      9.537e-07   \n",
      "     22      4.768e-07   \n",
      "     23      2.384e-07   \n",
      "     24      1.192e-07   \n",
      "The solution is: -0.7390850782394409\n",
      "At root point the f(x)is    -9.200802475461956e-08    which is tends to 0\n"
     ]
    }
   ],
   "source": [
    "#Question-1(b)\n",
    "#Bisection method\n",
    "\n",
    "from Own_library import *\n",
    "import math\n",
    "\n",
    "def f(x):\n",
    "    return(-x- math.cos(x))\n",
    "\n",
    "\n",
    "q1b_1 = open(\"Q1b_Bisection_method.txt\",\"w+\")     \n",
    "ans = bisection_method(f,-1,1,1.0e-07,q1b_1)\n",
    "\n",
    "print(\"The solution is:\", ans) \n",
    "print(\"At root point the f(x)is   \",f(ans),\"   which is tends to 0\")\n"
   ]
  },
  {
   "cell_type": "code",
   "execution_count": 74,
   "metadata": {},
   "outputs": [
    {
     "name": "stdout",
     "output_type": "stream",
     "text": [
      "Iterations   Absolute error\n",
      "     1       4.597e-01   \n",
      "     2       1.877e-01   \n",
      "     3       1.052e-02   \n",
      "     4       5.302e-04   \n",
      "     5       2.657e-05   \n",
      "     6       1.331e-06   \n",
      "     7       6.666e-08   \n",
      "The solution is: -0.7390851296998365\n",
      "At root point the f(x)is    -5.883288745067716e-09    which is tends to 0\n"
     ]
    }
   ],
   "source": [
    "#Question-1(b)\n",
    "#False position method\n",
    "\n",
    "from Own_library import *\n",
    "import math\n",
    "def f(x):\n",
    "    return(-x-math.cos(x))\n",
    "\n",
    "\n",
    "q1b_2 = open(\"Q1b_regula_falsi.txt\",\"w+\")\n",
    "ans= regula_falsi(f,-1,1,1.0e-07,q1b_2)\n",
    "print(\"The solution is:\",ans)\n",
    "print(\"At root point the f(x)is   \",f(ans),\"   which is tends to 0\")"
   ]
  },
  {
   "cell_type": "code",
   "execution_count": 75,
   "metadata": {},
   "outputs": [
    {
     "name": "stdout",
     "output_type": "stream",
     "text": [
      "Iterations   Absolute error\n",
      "     1       2.340e+00   \n",
      "     2       3.746e+00   \n",
      "     3       3.869e+00   \n",
      "     4       5.064e+00   \n",
      "     5       5.121e+01   \n",
      "     6       5.715e+01   \n",
      "     7       3.878e+01   \n",
      "     8       2.160e+01   \n",
      "     9       2.049e+01   \n",
      "     10      7.104e+00   \n",
      "     11      4.729e+00   \n",
      "     12      9.250e-01   \n",
      "     13      4.190e-02   \n",
      "     14      3.774e-04   \n",
      "     15      3.145e-08   \n",
      "The solution is: -0.7390851332151608\n",
      "At root point the f(x)is    2.220446049250313e-16    which is tends to 0\n"
     ]
    }
   ],
   "source": [
    "#Question-1(b)\n",
    "#Newton Raphson method\n",
    "\n",
    "\n",
    "from Own_library import *\n",
    "\n",
    "import math\n",
    "def derivative(f, x, h):\n",
    "      return (f(x+h) - f(x-h)) / (2.0*h)  # might want to return a small non-zero if ==0\n",
    "\n",
    "def f(x):\n",
    "    return (-x- math.cos(x))    # just a function to show it works\n",
    "\n",
    "q1b_3 = open(\"Q1b_Newton_raphson.txt\",\"w+\")      \n",
    "ans = N_raphson(f,derivative, 3, 1.0e-06,q1b_3)    # call the solver\n",
    "print(\"The solution is:\",ans)\n",
    "print(\"At root point the f(x)is   \",f(ans),\"   which is tends to 0\")"
   ]
  },
  {
   "cell_type": "code",
   "execution_count": null,
   "metadata": {},
   "outputs": [],
   "source": []
  },
  {
   "cell_type": "code",
   "execution_count": 82,
   "metadata": {},
   "outputs": [
    {
     "name": "stdout",
     "output_type": "stream",
     "text": [
      "Enter your first guess2.5\n",
      "Iterations   Absolute error\n",
      "     1       5.385e-01   \n",
      "\n",
      "     2       -4.592e-02  \n",
      "\n",
      "     3       8.785e-03   \n",
      "\n",
      "     4       -1.673e-03  \n",
      "\n",
      "     5       3.187e-04   \n",
      "\n",
      "     6       -6.071e-05  \n",
      "\n",
      "     7       1.156e-05   \n",
      "\n",
      "     8       -2.203e-06  \n",
      "\n",
      "     9       4.195e-07   \n",
      "\n",
      "The root is 1.999999932873082\n",
      "[1, -1.000000067126918, -9.000000067126914, 9.000000469888437, 3.356345814609085e-07]\n",
      "\n",
      "Iterations   Absolute error\n",
      "     1       -5.868e-01  \n",
      "\n",
      "     2       8.330e-02   \n",
      "\n",
      "     3       3.414e-03   \n",
      "\n",
      "     4       4.875e-05   \n",
      "\n",
      "     5       6.422e-07   \n",
      "\n",
      "The root is 3.000000036532766\n",
      "[1, 1.9999999694058481, -3.0000000858438387, 1.0275861939135211e-07, 6.439104433890214e-07]\n",
      "\n",
      "Iterations   Absolute error\n",
      "     1       1.296e+00   \n",
      "\n",
      "     2       1.994e-01   \n",
      "\n",
      "     3       4.991e-03   \n",
      "\n",
      "     4       3.115e-06   \n",
      "\n",
      "     5       1.213e-12   \n",
      "\n",
      "The root is 1.0000000291094977\n",
      "[1, 2.999999998515346, 0.0, 1.0275861939135211e-07, 7.466690657716253e-07]\n",
      "\n",
      "Iterations   Absolute error\n",
      "     1       5.500e+00   \n",
      "\n",
      "     2       4.441e-15   \n",
      "\n",
      "The root is -2.999999998515346\n",
      "[1, 0.0, 0.0, 1.0275861939135211e-07, 4.3839320775013e-07]\n",
      "\n"
     ]
    }
   ],
   "source": [
    "#Question-2\n",
    "#Laguerre's method and synthetic division method\n",
    "\n",
    "import math\n",
    "\n",
    "def polyfunc(x,n,coeff):\n",
    "    result=0\n",
    "    for i in (range(1,n+1)):\n",
    "        if i==n:\n",
    "            result=result+coeff[i-1]\n",
    "        else:\n",
    "            result=result+coeff[i-1]*x**(n-i)\n",
    "    return (result)\n",
    "\n",
    "def f(x):\n",
    "    return polyfunc(x,n,coeff)\n",
    "\n",
    "def f_derivative(x,h,f):\n",
    "    s = (f(x+h)-f(x-h))/(2*h)\n",
    "    return s\n",
    "def s_derivative(x,h):\n",
    "    s = (f(x+h)+f(x-h)-2*f(x))/(2*h*h)\n",
    "    return s\n",
    "file = open(\"Q2_polynomial.txt\",\"w+\")\n",
    "coeff = [1,-3,-7,27,-18]\n",
    "n=5\n",
    "tol=1.0e-06\n",
    "alpha=float(input(\"Enter your first guess\"))\n",
    "while n>1:\n",
    "    coefficients = synthetic_div(coeff,laguerre(f,f_derivative,s_derivative,alpha,n,tol,file))\n",
    "    n= n-1\n",
    "    print(coefficients)\n",
    "    print()\n",
    "\n",
    "\n"
   ]
  },
  {
   "cell_type": "code",
   "execution_count": null,
   "metadata": {},
   "outputs": [],
   "source": []
  }
 ],
 "metadata": {
  "kernelspec": {
   "display_name": "Python 3",
   "language": "python",
   "name": "python3"
  },
  "language_info": {
   "codemirror_mode": {
    "name": "ipython",
    "version": 3
   },
   "file_extension": ".py",
   "mimetype": "text/x-python",
   "name": "python",
   "nbconvert_exporter": "python",
   "pygments_lexer": "ipython3",
   "version": "3.7.7"
  }
 },
 "nbformat": 4,
 "nbformat_minor": 4
}
